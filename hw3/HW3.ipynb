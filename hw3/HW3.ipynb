{
 "cells": [
  {
   "cell_type": "markdown",
   "metadata": {},
   "source": [
    "## Продвинутое машинное обучение: \n",
    "### Домашнее задание 3\n",
    "#### Студент: Синяев Максим\n",
    "\n",
    "Третье домашнее задание посвящено достаточно простой, но, надеюсь, интересной задаче, в которой потребуется творчески применить методы сэмплирования. Как и раньше, в качестве решения ожидается ссылка на jupyter-ноутбук на вашем github (или публичный, или с доступом для snikolenko); ссылку обязательно нужно прислать в виде сданного домашнего задания на портале Академии. Как всегда, любые комментарии, новые идеи и рассуждения на тему категорически приветствуются. \n",
    "\n",
    "Пользовался он для этого так называемым частотным методом: смотрел, какие буквы чаще встречаются в зашифрованных текстах, и пытался подставить буквы в соответствии с частотной таблицей: E — самая частая и так далее.\n",
    "В этом задании мы будем разрабатывать более современный и продвинутый вариант такого частотного метода. В качестве корпусов текстов для подсчётов частот можете взять что угодно, но для удобства вот вам “Война и мир” по-русски и по-английски:"
   ]
  },
  {
   "cell_type": "code",
   "execution_count": 21,
   "metadata": {},
   "outputs": [],
   "source": [
    "from collections import defaultdict, Counter\n",
    "import random\n",
    "\n",
    "import numpy as np\n",
    "from nltk import ngrams\n",
    "from sklearn.feature_extraction.text import CountVectorizer\n",
    "import matplotlib.pyplot as plt\n",
    "import seaborn as sns\n",
    "from tqdm import trange, tqdm \n",
    "\n",
    "import warnings\n",
    "warnings.filterwarnings('ignore')"
   ]
  },
  {
   "cell_type": "code",
   "execution_count": null,
   "metadata": {},
   "outputs": [],
   "source": [
    "TRANSLATE_TOKENS = '🍄🍅🍆🍇🍈🍉🍊🍋🍌🍍🍎🍏🍐🍑🍒🍓🍔🍕🍖🍗🍘🍙🍚🍛🍜🍝🍞🍟🍠🍡🍢🍣🍤🍥🍦'\n",
    "alphabet = ' абвгдеёжзийклмнопрстуфхцчшщъыьэюя'\n",
    "\n",
    "count_vectorizer = CountVectorizer(token_pattern='\\\\b[а-я\\\\ ][а-я\\\\ ]+\\\\b', vocabulary=list(alphabet), analyzer='char')\n",
    "tokenizer = count_vectorizer.build_tokenizer()"
   ]
  },
  {
   "cell_type": "code",
   "execution_count": null,
   "metadata": {},
   "outputs": [],
   "source": [
    "def read_file(filename):\n",
    "    with open(filename) as f:\n",
    "        text = f.read()\n",
    "    return text\n",
    "\n",
    "def count_freq(corpus, use_filter=True):\n",
    "    if use_filter:\n",
    "        freq = dict([(key, val) for key, val in Counter(corpus).items() if key in alphabet])\n",
    "    else:\n",
    "        freq = dict([(key, val) for key, val in Counter(corpus).items()])\n",
    "    sum_ = sum(freq.values())\n",
    "    freq = dict([(key, (val + 1) / (sum_ + len(alphabet))) for key, val in freq.items()])\n",
    "    return freq\n",
    "\n",
    "def decode_from_freq(test_corpus, real_freq):\n",
    "    test_freq = count_freq(test_corpus, use_filter=False)\n",
    "    real_freq_ar = np.array(list(real_freq.values()))\n",
    "    tokens = list(real_freq.keys())\n",
    "    translate_dict = dict()\n",
    "    for c in test_freq:\n",
    "        nearest = np.argmin(np.abs(real_freq_ar - test_freq[c]))\n",
    "        translate_dict[c] = tokens[nearest]\n",
    "#     print(translate_dict)\n",
    "        \n",
    "    decoded = ''.join([translate_dict[c] for c in test_corpus])\n",
    "    return decoded, translate_dict\n",
    "\n",
    "def decode_from_freq_bigrams(test_bigrams, real_freq):\n",
    "    test_freq = count_freq(test_bigrams, use_filter=False)\n",
    "    real_freq_ar = np.array(list(real_freq.values()))\n",
    "    tokens = list(real_freq.keys())\n",
    "    decoded_seq = ''\n",
    "    for bi in test_bigrams:\n",
    "        nearest = np.argmin(np.abs(real_freq_ar - test_freq[bi]))\n",
    "        decoded_seq += tokens[nearest]\n",
    "        \n",
    "#     decoded = ''.join([translate_dict[c] for c in test_corpus])\n",
    "    return decoded_seq\n",
    "\n",
    "def translate_accuracy(t1, t2):\n",
    "    sum_right = 0\n",
    "    for c1, c2 in zip(t1, t2):\n",
    "        sum_right += int(c1 == c2)\n",
    "    mean_ = sum_right / len(t1)\n",
    "    return mean_"
   ]
  },
  {
   "cell_type": "markdown",
   "metadata": {},
   "source": [
    "#### 1 Реализуйте базовый частотный метод по Шерлоку Холмсу:\n"
   ]
  },
  {
   "cell_type": "markdown",
   "metadata": {},
   "source": [
    "#### подсчитайте частоты букв по корпусам (пунктуацию и капитализацию можно просто опустить, а вот пробелы лучше оставить);\n"
   ]
  },
  {
   "cell_type": "code",
   "execution_count": null,
   "metadata": {},
   "outputs": [],
   "source": [
    "# Для построения статистики возьмем романы \"Анну Каренину\" и \"Войну и мир\"\n",
    "corpus = read_file('AnnaKarenina.txt') + read_file('WarAndPeace.txt')\n",
    "corpus = ''.join([c for c in corpus.lower() if c in alphabet])"
   ]
  },
  {
   "cell_type": "code",
   "execution_count": null,
   "metadata": {},
   "outputs": [],
   "source": [
    "uniq_symbols = set(corpus)\n",
    "print(f'Всего уникальных символов в корпусе: {len(uniq_symbols)}')\n",
    "# Посчитаем частоты для корпусов оставив только уникальные\n",
    "train_freq = count_freq(corpus)"
   ]
  },
  {
   "cell_type": "markdown",
   "metadata": {},
   "source": [
    "#### возьмите какие-нибудь тестовые тексты (нужно взять по меньшей мере 2-3 предложения, иначе вряд ли сработает), зашифруйте их посредством случайной перестановки символов;"
   ]
  },
  {
   "cell_type": "code",
   "execution_count": null,
   "metadata": {},
   "outputs": [],
   "source": [
    "# Пример текста который будет зашифрован\n",
    "test_text = read_file('./example.txt').lower()\n",
    "# test_text = 'в течение многих часов шерлок холмс сидел согнувшись над стеклянной пробиркой в которой варилось чтото на редкость вонючее голова его была опущена на грудь и он казался мне похожим на странную товцую птицу с тусклыми серыми перьями и черным хохолком итак уотсон сказал он внезапно вы не собираетесь вкладывать свои сбережения в южноафриканские ценные бумаги я вздрогнул от удивления как ни привык я к необычайным способностям холмса это внезапное вторжение в самые тайные мои мысли было совершенно необъяснимым как черт возьми вы об этом узнали спросил я он повернулся на стуле держа в руке дымящуюся пробирку и его глубоко сидящие глаза радостно заблистали признайтесь уотсон что вы совершенно сбиты с толку сказал он признаюсь мне следовало бы заставить вас написать об этом на листочке бумаги и подписаться почему потому что через пять минут вы скажете что все это необычайно просто'\n",
    "test_text = ' '.join(tokenizer(test_text))\n",
    "test_text[:40]"
   ]
  },
  {
   "cell_type": "code",
   "execution_count": null,
   "metadata": {},
   "outputs": [],
   "source": [
    "uniq_test_symb = ''.join(set(test_text))\n",
    "len(uniq_test_symb)\n",
    "print(f'Unique tokens: {uniq_test_symb}, len: {len(uniq_test_symb)}')"
   ]
  },
  {
   "cell_type": "code",
   "execution_count": null,
   "metadata": {},
   "outputs": [],
   "source": [
    "translate_dict = dict(zip(TRANSLATE_TOKENS[:len(uniq_test_symb)], uniq_test_symb))\n",
    "inverse_translate_dict = dict([(val, key) for (key, val) in translate_dict.items()])\n",
    "\n",
    "encoded_seq = ''.join([inverse_translate_dict[i] for i in test_text])\n",
    "print(f'Закодированное сообщение теперь выглядит так: {encoded_seq[:40]}')"
   ]
  },
  {
   "cell_type": "markdown",
   "metadata": {},
   "source": [
    "#### расшифруйте их таким частотным методом."
   ]
  },
  {
   "cell_type": "code",
   "execution_count": 9,
   "metadata": {},
   "outputs": [
    {
     "name": "stdout",
     "output_type": "stream",
     "text": [
      ">Перевод: в ореове хкрдеснуеета еаьокова вешнт яндотеча дшоеа у даееа ьснтаеркояо ахсоеавта еажава   века десвоотксгватевч нешеееса хкрщеетснжеркояо днратевч н оснянеавжеояо угрвнтевч уешду   н   яодоу даее нчоьсев н дортсонв дерчтж васнаетов ветатевжеояо аддасата тчшевее вочдуша двч воеееой сачведкн как уоеодваег так н ьндваег нш фйчевчш еадоунеав еакоееженк ртсевг р ксгвжчун отьсоюееегун еачад еадодоьне ровсеуееегш девжтадваеов н ее нуев шворта жто как хто ен ртсаеео дсндававо еяо уаюнеау досачнтевжеуй уртойжнвортж даее уоя удсаввчтж ахсодваеоу дсншнуач еояой акревесатос в то всеуч как сукн еяо уоявн вертн чаднрн в довете дседвоеееач ахсоеавтнка дововжео сечко доюва в дсуяоу еадсаввеенн врведртвне всошдеееой ьовечен ресдща даее ортавнв авнащнй дорве еекотосояо всеуеен дорвчщеееояо нчоьсетеенй еовгш увужюееегш рдороьов сгьеой воввн еа дснуаеку в   яоду ое одуьвнковав додувчсеуй кеняу о тоу как деватж нркурртвеееге ууюкн дсочсажегун жтоьг сгьа уоява вндетж еарточщнш ууш рквочж ровеежегй рвет ое оьсатнврч к нррведоваенй дочвовнвюеуу удовветвоснтевжео оьфчрентж ртсаееуй реснй реовндеенй котосге ое вндев р йеортн н котосге как ое оьеасушнв вндевн н дсуяне ое нчужнв ровсеуеееге теоснн всеуеен от ж шнетоеа жто такое жетвестое нчуесеене до ьесяроеа н фсейда р одеой ртосоег н до дваека н хйеютейеа р дсуяой до ровету яесьеста ухввра еяо ртасояо дснчтевч ое сачсаьотав додсоь еуй оьщуй теоснй котосуй одуьвнковав в   яоду как хкрдеснуеет ро всеуеееу до вйьодгтеоуу ровдадеенй в тоу ше яоду шайдеяяес еадежа тав ьгтне н всеуч ьгтж уошет рауое рвое явуьокое рожнееене кеняа даееа вгдесшава уеошертво нчдаенй вужюее нч котосгш ьгво тсетже десеруотсеееое еадежатаееое в   яоду н уеояо сач деседежатаееое у еаьокова ьгво одео нч хтнш нчдаенй\n",
      "\n",
      ">Количество верно определенных символов:  0.5692926969522715\n"
     ]
    }
   ],
   "source": [
    "decoded, trans_dict = decode_from_freq(encoded_seq, train_freq)\n",
    "print(\">Перевод:\", decoded)\n",
    "print()\n",
    "print(\">Количество верно определенных символов: \", translate_accuracy(decoded, test_text))"
   ]
  },
  {
   "cell_type": "markdown",
   "metadata": {},
   "source": [
    "Расшивровка как и упоминалось получалась так себе, несмотря на относительно большую точность попадания в символы понять ее весьма сложно"
   ]
  },
  {
   "cell_type": "markdown",
   "metadata": {},
   "source": [
    "### 2\n",
    "Вряд ли в результате получилась такая уж хорошая расшифровка, разве что если вы брали в качестве тестовых данных целые рассказы. Но и Шерлок Холмс был не так уж прост: после буквы E, которая действительно выделяется частотой, дальше он анализировал уже конкретные слова и пытался угадать, какими они могли бы быть. Я не знаю, как запрограммировать такой интуитивный анализ, так что давайте просто сделаем следующий логический шаг:\n"
   ]
  },
  {
   "cell_type": "markdown",
   "metadata": {},
   "source": [
    "#### подсчитайте частоты биграмм (т.е. пар последовательных букв) по корпусам;"
   ]
  },
  {
   "cell_type": "code",
   "execution_count": 46,
   "metadata": {},
   "outputs": [],
   "source": [
    "bigrams = [''.join(i) for i in ngrams(corpus, 2)]\n",
    "bigrams_freq = count_freq(bigrams, use_filter=False)"
   ]
  },
  {
   "cell_type": "code",
   "execution_count": 47,
   "metadata": {},
   "outputs": [
    {
     "data": {
      "text/plain": [
       "[('ан', 0.004729391009983087),\n",
       " ('нн', 0.0028668525655796253),\n",
       " ('на', 0.010638574265792285)]"
      ]
     },
     "execution_count": 47,
     "metadata": {},
     "output_type": "execute_result"
    }
   ],
   "source": [
    "# Пример полученных биграм\n",
    "list(bigrams_freq.items())[:3]"
   ]
  },
  {
   "cell_type": "markdown",
   "metadata": {},
   "source": [
    "#### проведите тестирование аналогично п.1, но при помощи биграмм."
   ]
  },
  {
   "cell_type": "code",
   "execution_count": 48,
   "metadata": {},
   "outputs": [],
   "source": [
    "def decode_from_freq_bigrams(test_bigrams, real_freq):\n",
    "    test_freq = count_freq(test_bigrams, use_filter=False)\n",
    "    real_freq_ar = np.array(list(real_freq.values()))\n",
    "    tokens = list(real_freq.keys())\n",
    "    decoded_seq = ''\n",
    "    for i in range(0, len(test_bigrams), 2):\n",
    "        bi = test_bigrams[i]\n",
    "        nearest = np.argmin(np.abs(real_freq_ar - test_freq[bi]))\n",
    "        decoded_seq += tokens[nearest]\n",
    "        \n",
    "#     decoded = ''.join([translate_dict[c] for c in test_corpus])\n",
    "    return decoded_seq"
   ]
  },
  {
   "cell_type": "code",
   "execution_count": 49,
   "metadata": {},
   "outputs": [
    {
     "name": "stdout",
     "output_type": "stream",
     "text": [
      ">Перевод:  бер вн  умин гоу лье  вилнон льля ун ля б же ажгое ниеря е ль у оминие  ж б вляе  вмиу нитоляе н ажажажилн кон  важтонее  жажтоилажльноя  омиерь у е ни ж уерльние ажми уь у у ляниние ния илилеря  вляльь  в оерилажни блян томиляль ильу ерь льние н лягонеу ляь лятоми улянен тоу я илилльн аже ерерил вль ольнеере ляль оль жляажь ля ин ил уер иу гольь ерне иаж пгоилилаже  бльлятоу ми ильля ин еру  у п и иу я минеь ажн у  в бе ил ву ниажернелья гоу  уя  ие негоя е н льилере мие  жаж вилногоажкоилминиляя ажляерн не оерилажажгоми жн  ж бль оил ого ж жу  вя еру  ж бгоя ля бя то илягоу илаже мие ил же н нее  жляажто ольу  нн минито ву  ж б влямие илниил вил жно оляу тоне уя ил вн ил бь е аж бажль уто блято верил баже  жажажне оерернеилниилляажниноми нилноя  бя то иу ь  оеражажя ние н у  икоь ни влян ля жмия ми пноерил билляилль иил ие н ль олятонин ерниго о жлями иер о уляажминиля жние я илерер бу н  вмилянен я миниаж ж о бляляу милья льилляе ил же ил бн  иажя ля жниля пажмин еражльу ер жу  оеру го уляу ермимими и о у оминиилажерниаж и бльни уь лье у аж ж ун негоя  у пне у п вил бь ерноя ил нготольь  паж внее е ноя ил нерерго олямиажльтольь е е ми ж у оерн  жль п и иу я миу лягое н ертое  бль ж уя  влья у у у льу н ляу  важнето унее ляажер в вля иляе миер вернениголье ил оу ляе е ажажколяе мими жил ое ерн ажн неляляе ажаж ж жя  пне бя  ого жь у гоилльгоилнениномиу  и у оаж уу лягониноя  уни у жилнон ни бния  угоу  умин гоу ль пе н ертоер ое ажилажажилниеражлято утоу илаж ня  у жаж бажне ин лье нениль у не н еру льн ни жу  пляу  пни н ж ж жу  паж уто угоь ажне о втоажнеажу ни вльнени в ж о жль жми нн го бнимин  же илу аж онельилилто в н вн минея у тонин ерние ляние го жн  ин минея у ил и ж ж ие льми оляе н  у ун н ерь \n",
      "\n",
      ">Количество верно определенных символов:  0.09666283084004602\n"
     ]
    }
   ],
   "source": [
    "test_bigrams = [''.join(i) for i in ngrams(encoded_seq, 2)]\n",
    "decoded = decode_from_freq_bigrams(test_bigrams, bigrams_freq)\n",
    "print(\">Перевод:\", decoded)\n",
    "print()\n",
    "print(\">Количество верно определенных символов: \", translate_accuracy(decoded, test_text))"
   ]
  },
  {
   "cell_type": "markdown",
   "metadata": {},
   "source": [
    "С использованием биграм все стало только хуже, что неудевительно, ведь их очень много, а в тестовом тексте не так много символов чтобы набрать достаточно статистики, хоть сколько-нибудь близкой к реальной, поэтому все частотные оценки получаются у нас сильно смещенными"
   ]
  },
  {
   "cell_type": "markdown",
   "metadata": {},
   "source": [
    "### Но и это ещё не всё: биграммы скорее всего тоже далеко не всегда работают.\n",
    "Основная часть задания — в том, как можно их улучшить:\n"
   ]
  },
  {
   "cell_type": "markdown",
   "metadata": {},
   "source": [
    "#### предложите метод обучения перестановки символов в этом задании, основанный на MCMC-сэмплировании, но по-прежнему работающий на основе статистики биграмм;\n"
   ]
  },
  {
   "cell_type": "markdown",
   "metadata": {},
   "source": [
    "Руководствуясь интуицией и статьей на медиуме https://towardsdatascience.com/applications-of-mcmc-for-cryptography-and-optimization-1f99222b7132 мы можем воспользоваться методом MCMC сэмплирования и с его помощью подобрать подходящий шифр для нашего зашифрованного сообщения, в общем случае алгоритм будет работать следующи образом:\n",
    "1. Инициализируем случайный ключ и вычисляем для него вероятность того что текст расшифрован правильно\n",
    "2. Меняем два случайных ключа в шифре местами\n",
    "3. Расшифровываем сообщение с помощью полученного на прошлом шаге ключа и считаем веростность того что перевод сделан верно p_prop\n",
    "4. Если оценка веротности правильной расшифровки  текущего шага получилась выше предыдущего, то используем полученный словарь для следущего шага и возвращаемсяко 2 пункту.\n",
    "5. Если оценка вероятности существования текста расшифрованного новым ключем меньше прошлого то мы берем новый ключ с вероятностью p_prop/p_previous.\n",
    "1. Повторяем все начиная с шага 2\n",
    "\n",
    "Чтобы упростить себе вычисления мы будем использовать Log-Likelihood вместо Likelihood, в алгоритме работы под вероятностью имеется ввиду именно LL."
   ]
  },
  {
   "cell_type": "code",
   "execution_count": 50,
   "metadata": {},
   "outputs": [],
   "source": [
    "def decode_text_from_key(text, key):\n",
    "    return ''.join([key[c] for c in text])"
   ]
  },
  {
   "cell_type": "code",
   "execution_count": 80,
   "metadata": {},
   "outputs": [],
   "source": [
    "def calc_text_prob(text, key, real_freq: dict, alphabet, n_gram_size):\n",
    "    decoded_text = decode_text_from_key(text, key)\n",
    "    prob = 0\n",
    "    for token_idx in range(len(decoded_text) - n_gram_size):\n",
    "        bi = decoded_text[token_idx: token_idx + n_gram_size]\n",
    "        bi_prob = real_freq.setdefault(bi, 1 / (len(alphabet) ** n_gram_size))\n",
    "        prob += np.log(bi_prob)\n",
    "    return prob\n",
    "\n",
    "\n",
    "def find_key_mcmc(encrypted_text, alphabet, corpus_ngram_freq, alphabet_freqs=train_freq, n_gram_size=2, n_iters=1000, verbal=False):\n",
    "    alphabet_list = list(alphabet)\n",
    "    encrypt_alphabet_list = list(set(encrypted_text))\n",
    "    \n",
    "    # Проверка что количество символов совпадает\n",
    "#     if len(encrypt_alphabet_list) < len(alphabet):\n",
    "#         # Иначе дропаем все самые непопулярные токены, исходим из предположения что их не может быть больше\n",
    "#         tokens = np.array(list(alphabet_freqs.keys()))\n",
    "#         freqs = list(alphabet_freqs.values())        \n",
    "#         tokens_idx = np.argsort(freqs)[len(alphabet_list) - len(encrypt_alphabet_list):]\n",
    "#         alphabet = tokens[tokens_idx].tolist()\n",
    "#         alphabet_list = list(alphabet)\n",
    "#         print(f\"Dropped tokens: {set(tokens) - set(alphabet)}\")\n",
    "    # Проверка\n",
    "#     assert len(encrypt_alphabet_list) == len(alphabet)\n",
    "#     random.shuffle(encrypt_alphabet_list)\n",
    "    key_prev = dict(zip(encrypt_alphabet_list, alphabet))\n",
    "    prob_prev = calc_text_prob(encrypted_text, key_prev, corpus_ngram_freq, alphabet, n_gram_size)\n",
    "    \n",
    "    desc = 'Searching best key with mcmc, NLL = {}'\n",
    "    t = trange(n_iters, desc=desc.format(prob_prev), disable=(not verbal))\n",
    "    n_tries_no_change = 0\n",
    "    for i in t:\n",
    "        # Chose random idxs\n",
    "        idx1, idx2 = random.sample(range(len(alphabet)), 2)\n",
    "        alphabet_list_copy = alphabet_list.copy()\n",
    "        alphabet_list_copy[idx1], alphabet_list_copy[idx2] = alphabet_list_copy[idx2], alphabet_list_copy[idx1]\n",
    "        \n",
    "        key_new = dict(zip(encrypt_alphabet_list, alphabet_list_copy[:len(encrypt_alphabet_list)]))\n",
    "        prob_new = calc_text_prob(encrypted_text, key_new, corpus_ngram_freq, alphabet, n_gram_size)\n",
    "        \n",
    "        # Берем экспоненту чтобы привести вероятность к нормальному виду [0,1], отнимаем потому что логарифм\n",
    "        p_change = np.exp(prob_new - prob_prev)\n",
    "        \n",
    "        # Попытка стабилизировать алгоритм, вроде работает, переходы происходят всегда когда вероятность больше,\n",
    "        # если застревает уменьшаем порог для перехода, не всегда достигаются значения, но работает стабильнее (нет)\n",
    "#         if prob_new > (prob_prev / np.exp(n_tries_no_change)) or p_change > random.random():\n",
    "        if p_change > random.random():\n",
    "\n",
    "            n_tries_no_change = 0\n",
    "            alphabet_list = alphabet_list_copy\n",
    "            key_prev = key_new\n",
    "            prob_prev = prob_new\n",
    "        else:\n",
    "            n_tries_no_change += 1\n",
    "\n",
    "        if (i + 1) % 10 == 0:\n",
    "            t.set_description(desc.format(prob_prev))\n",
    "#     print(f'Best log_prob: {prob_prev}')\n",
    "    return key_new, prob_prev\n",
    "                \n",
    "                \n",
    "    \n",
    "    "
   ]
  },
  {
   "cell_type": "code",
   "execution_count": 93,
   "metadata": {},
   "outputs": [
    {
     "name": "stderr",
     "output_type": "stream",
     "text": [
      "Searching best key with mcmc, NLL = -9761.308420976255: 100%|██████████| 10000/10000 [00:30<00:00, 330.28it/s]\n"
     ]
    }
   ],
   "source": [
    "mcmc_key, _ = find_key_mcmc(encoded_seq, alphabet, bigrams_freq, n_iters=10000, verbal=True)"
   ]
  },
  {
   "cell_type": "code",
   "execution_count": 94,
   "metadata": {},
   "outputs": [
    {
     "name": "stdout",
     "output_type": "stream",
     "text": [
      "в осдове эксперимедта дабокова лежит гипотеза нжода у надда бритадского аэродавта дачала   века первооткрывателя иджедера эксцедтрического писателя и оригидальдого мыслителя межну   и   гоном надд изобрел и построил несять вариадтов летательдого аппарата тяжелее вознуха нля воеддой развенки как модоплады так и биплады их фюзеляж дапомидал дакодечдик стрелы с крыльями отброшеддыми дазан дапонобие совремеддых нельтапладов и де имел хвоста что как это ди страддо принавало его машидам поразительдую устойчивость надд мог управлять аэропладом прижимая догой акселератор в то время как руки его могли вести записи в полете пренвоеддая аэродавтика новольдо резко пошла в нругом даправледии всленствие врожнеддой болезди сернца надд оставил авиацию после декоторого времеди посвящеддого изобретедию довых улучшеддых способов рыбдой ловли да примадку в   гону од опубликовал популярдую кдигу о том как нелать искусстведдые мушки прозрачдыми чтобы рыба могла винеть дастоящих мух сквозь солдечдый свет од обратился к иссленовадию позволившему уновлетворительдо объясдить страддую серию сдовинедий которые од винел с юдости и которые как од обдаружил винели и нругие од изучил совремеддые теории времеди от ч хидтода что такое четвертое измередие но бергсода и фрейна с ондой стороды и но пладка и эйдштейда с нругой по совету герберта уэллса его старого приятеля од разработал понроб дую общую теорию которую опубликовал в   гону как эксперимедт со времедем по любопытдому совпанедию в том же гону хайнеггер дапеча тал бытие и время быть может самое свое глубокое сочидедие кдига надда вынержала мдожество изнадий лучшее из которых было третье пересмотреддое дапечатаддое в   гону и мдого раз перепечатаддое у дабокова было ондо из этих изнадий\n",
      ">Количество верно определенных символов:  90.10925819436457 %\n"
     ]
    }
   ],
   "source": [
    "decoded = decode_text_from_key(encoded_seq, mcmc_key)\n",
    "print(decoded)\n",
    "print(\">Количество верно определенных символов: \", translate_accuracy(decoded, test_text) * 100, '%')"
   ]
  },
  {
   "cell_type": "markdown",
   "metadata": {},
   "source": [
    "Алгоритм время от времени застревает в локальном минимуме и никак не может оттуда выбраться, давайте напишем цикл в котором будем запускить алгоритм несколько раз и выбирать ключ с наименьшим по модулю NLL"
   ]
  },
  {
   "cell_type": "code",
   "execution_count": 83,
   "metadata": {},
   "outputs": [],
   "source": [
    "# N_ATTEMPTS = 20\n",
    "\n",
    "# best_key = None\n",
    "# best_prob = float('-inf')\n",
    "# probs_history = list()\n",
    "# decryption_error_history = list()\n",
    "# for i in range(N_ATTEMPTS):\n",
    "#     key, prob = find_key_mcmc(encoded_seq, alphabet, bigrams_freq, n_iters=5000)\n",
    "#     probs_history.append(prob)\n",
    "#     decryption_error_history.append(translate_accuracy(decode_text_from_key(encoded_seq, key), test_text))\n",
    "#     if prob > best_prob:\n",
    "#         best_key = key\n",
    "#         best_prob = prob\n",
    "    "
   ]
  },
  {
   "cell_type": "markdown",
   "metadata": {},
   "source": [
    "#### 6 Расшифруйте сообщение:\n"
   ]
  },
  {
   "cell_type": "code",
   "execution_count": 84,
   "metadata": {},
   "outputs": [],
   "source": [
    "secret_message = '←⇠⇒↟↹↷⇊↹↷↟↤↟↨←↹↝⇛⇯↳⇴⇒⇈↝⇊↾↹↟⇒↟↹⇷⇛⇞↨↟↹↝⇛⇯↳⇴⇒⇈↝⇊↾↹↨←⇌⇠↨↹⇙↹⇸↨⇛↙⇛↹⇠⇛⇛↲⇆←↝↟↞↹⇌⇛↨⇛⇯⇊↾↹⇒←↙⇌⇛↹⇷⇯⇛⇞↟↨⇴↨⇈↹⇠⇌⇛⇯←←↹↷⇠←↙⇛↹↷⇊↹↷⇠←↹⇠↤←⇒⇴⇒↟↹⇷⇯⇴↷↟⇒⇈↝⇛↹↟↹⇷⇛⇒⇙⇞↟↨←↹↳⇴⇌⇠↟↳⇴⇒⇈↝⇊↾↹↲⇴⇒⇒↹⇰⇴↹⇷⇛⇠⇒←↤↝←←↹⇞←↨↷←⇯↨⇛←↹⇰⇴↤⇴↝↟←↹⇌⇙⇯⇠⇴↹↘⇛↨↞↹⇌⇛↝←⇞↝⇛↹↞↹↝↟⇞←↙⇛↹↝←↹⇛↲←⇆⇴⇏'\n"
   ]
  },
  {
   "cell_type": "code",
   "execution_count": 95,
   "metadata": {},
   "outputs": [
    {
     "name": "stderr",
     "output_type": "stream",
     "text": [
      "100%|██████████| 100/100 [07:02<00:00,  4.23s/it]\n"
     ]
    }
   ],
   "source": [
    "best_key = None\n",
    "best_prob = float('-inf')\n",
    "for i in tqdm(range(100)):\n",
    "    mcmc_key_secret, prob = find_key_mcmc(secret_message, alphabet, bigrams_freq, n_iters=10_000)\n",
    "    if prob > best_prob:\n",
    "        best_key = mcmc_key_secret\n",
    "        best_prob = prob"
   ]
  },
  {
   "cell_type": "code",
   "execution_count": 96,
   "metadata": {},
   "outputs": [
    {
     "data": {
      "text/plain": [
       "-1237.0207314949382"
      ]
     },
     "execution_count": 96,
     "metadata": {},
     "output_type": "execute_result"
    }
   ],
   "source": [
    "best_prob"
   ]
  },
  {
   "cell_type": "code",
   "execution_count": 97,
   "metadata": {},
   "outputs": [
    {
     "name": "stdout",
     "output_type": "stream",
     "text": [
      "если вы вимите нордалфный или почти нордалфный текст у этого соожбения который легко прочитатф скорее всего вы все смелали правилфно и получите даксидалфный жалл за послемнее четвертое замание курса хотя конечно я ничего не ожебаь\n"
     ]
    }
   ],
   "source": [
    "decoded = decode_text_from_key(secret_message, best_key)\n",
    "print(decoded)"
   ]
  },
  {
   "cell_type": "markdown",
   "metadata": {},
   "source": [
    "Возможно проблема в том что отбрасываются буквы необходимые для расшиврофки, можно попробовать составить алфавит для расшифровки самим"
   ]
  },
  {
   "cell_type": "markdown",
   "metadata": {},
   "source": [
    "#### 5 Бонус:\n",
    "а что если от биграмм перейти к триграммам (тройкам букв) или даже больше? Улучшатся ли результаты? Когда улучшатся, а когда нет? Чтобы ответить на этот вопрос эмпирически, уже может понадобиться погенерировать много тестовых перестановок и последить за метриками, глазами может быть и не видно."
   ]
  },
  {
   "cell_type": "code",
   "execution_count": 88,
   "metadata": {},
   "outputs": [],
   "source": [
    "# Посчитаем триграммы и их частоты\n",
    "\n",
    "trigrams = [''.join(i) for i in ngrams(corpus, 3)]\n",
    "trigrams_freq = count_freq(trigrams, use_filter=False)"
   ]
  },
  {
   "cell_type": "code",
   "execution_count": 89,
   "metadata": {},
   "outputs": [
    {
     "data": {
      "text/plain": [
       "[('анн', 0.0009612968350036416),\n",
       " ('нна', 0.0004097330772146669),\n",
       " ('на ', 0.00565832009438342)]"
      ]
     },
     "execution_count": 89,
     "metadata": {},
     "output_type": "execute_result"
    }
   ],
   "source": [
    "# Пример полученных биграм\n",
    "list(trigrams_freq.items())[:3]"
   ]
  },
  {
   "cell_type": "code",
   "execution_count": 90,
   "metadata": {},
   "outputs": [
    {
     "name": "stderr",
     "output_type": "stream",
     "text": [
      "100%|██████████| 50/50 [02:51<00:00,  3.43s/it]\n"
     ]
    }
   ],
   "source": [
    "best_key = None\n",
    "best_prob = float('-inf')\n",
    "for i in tqdm(range(50)):\n",
    "    mcmc_key_secret, prob = find_key_mcmc(secret_message, alphabet, trigrams_freq, n_iters=10_000, n_gram_size=3)\n",
    "    if prob > best_prob:\n",
    "        best_key = mcmc_key_secret\n",
    "        best_prob = prob\n"
   ]
  },
  {
   "cell_type": "code",
   "execution_count": 91,
   "metadata": {},
   "outputs": [
    {
     "data": {
      "text/plain": [
       "-1725.1100359228005"
      ]
     },
     "execution_count": 91,
     "metadata": {},
     "output_type": "execute_result"
    }
   ],
   "source": [
    "best_prob"
   ]
  },
  {
   "cell_type": "code",
   "execution_count": 92,
   "metadata": {},
   "outputs": [
    {
     "name": "stdout",
     "output_type": "stream",
     "text": [
      "если вы видите нормальный или почти нормальный текст у этого сообщения который легко прочитать скорее всего вы все сделали правильно и получите максимальный балл за последнее четвертое задание курса ъотя конечно я ничего не обещаж\n"
     ]
    }
   ],
   "source": [
    "decoded = decode_text_from_key(secret_message, best_key)\n",
    "print(decoded)"
   ]
  }
 ],
 "metadata": {
  "kernelspec": {
   "display_name": "Python 3",
   "language": "python",
   "name": "python3"
  },
  "language_info": {
   "codemirror_mode": {
    "name": "ipython",
    "version": 3
   },
   "file_extension": ".py",
   "mimetype": "text/x-python",
   "name": "python",
   "nbconvert_exporter": "python",
   "pygments_lexer": "ipython3",
   "version": "3.8.3"
  }
 },
 "nbformat": 4,
 "nbformat_minor": 4
}
